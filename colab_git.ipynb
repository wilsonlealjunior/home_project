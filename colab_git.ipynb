{
  "nbformat": 4,
  "nbformat_minor": 0,
  "metadata": {
    "colab": {
      "name": "colab_git.ipynb",
      "provenance": [],
      "authorship_tag": "ABX9TyNok9IjkMkTQBN28xPl/b18"
    },
    "kernelspec": {
      "name": "python3",
      "display_name": "Python 3"
    },
    "language_info": {
      "name": "python"
    }
  },
  "cells": [
    {
      "cell_type": "code",
      "metadata": {
        "colab": {
          "base_uri": "https://localhost:8080/"
        },
        "id": "0PCjc27hLJnY",
        "outputId": "1fbe1ea7-9102-4024-9e0e-922bf20fa525"
      },
      "source": [
        "print(\"integração com o git\")"
      ],
      "execution_count": 2,
      "outputs": [
        {
          "output_type": "stream",
          "text": [
            "integração com o git\n"
          ],
          "name": "stdout"
        }
      ]
    }
  ]
}